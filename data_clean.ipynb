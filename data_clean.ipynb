{
 "cells": [
  {
   "cell_type": "markdown",
   "metadata": {},
   "source": [
    "## ETL Pipeline"
   ]
  },
  {
   "cell_type": "code",
   "execution_count": 32,
   "metadata": {},
   "outputs": [
    {
     "name": "stdout",
     "output_type": "stream",
     "text": [
      "Requirement already satisfied: pandas in c:\\users\\dell\\opensousce\\proj_yt\\venv\\lib\\site-packages (2.1.2)\n",
      "Requirement already satisfied: numpy<2,>=1.23.2 in c:\\users\\dell\\opensousce\\proj_yt\\venv\\lib\\site-packages (from pandas) (1.26.1)\n",
      "Requirement already satisfied: python-dateutil>=2.8.2 in c:\\users\\dell\\opensousce\\proj_yt\\venv\\lib\\site-packages (from pandas) (2.8.2)\n",
      "Requirement already satisfied: pytz>=2020.1 in c:\\users\\dell\\opensousce\\proj_yt\\venv\\lib\\site-packages (from pandas) (2023.3.post1)\n",
      "Requirement already satisfied: tzdata>=2022.1 in c:\\users\\dell\\opensousce\\proj_yt\\venv\\lib\\site-packages (from pandas) (2023.3)\n",
      "Requirement already satisfied: six>=1.5 in c:\\users\\dell\\opensousce\\proj_yt\\venv\\lib\\site-packages (from python-dateutil>=2.8.2->pandas) (1.16.0)\n"
     ]
    },
    {
     "name": "stderr",
     "output_type": "stream",
     "text": [
      "\n",
      "[notice] A new release of pip is available: 23.2.1 -> 23.3.1\n",
      "[notice] To update, run: python.exe -m pip install --upgrade pip\n"
     ]
    }
   ],
   "source": [
    "! pip install pandas "
   ]
  },
  {
   "cell_type": "code",
   "execution_count": 33,
   "metadata": {},
   "outputs": [
    {
     "data": {
      "text/html": [
       "<div>\n",
       "<style scoped>\n",
       "    .dataframe tbody tr th:only-of-type {\n",
       "        vertical-align: middle;\n",
       "    }\n",
       "\n",
       "    .dataframe tbody tr th {\n",
       "        vertical-align: top;\n",
       "    }\n",
       "\n",
       "    .dataframe thead th {\n",
       "        text-align: right;\n",
       "    }\n",
       "</style>\n",
       "<table border=\"1\" class=\"dataframe\">\n",
       "  <thead>\n",
       "    <tr style=\"text-align: right;\">\n",
       "      <th></th>\n",
       "      <th>kind</th>\n",
       "      <th>etag</th>\n",
       "      <th>id</th>\n",
       "      <th>snippet</th>\n",
       "    </tr>\n",
       "  </thead>\n",
       "  <tbody>\n",
       "    <tr>\n",
       "      <th>0</th>\n",
       "      <td>youtube#searchResult</td>\n",
       "      <td>rWqR7TPlw64AaKJF3gTXE3l-vXw</td>\n",
       "      <td>{'kind': 'youtube#video', 'videoId': 'nLRL_Ncn...</td>\n",
       "      <td>{'publishedAt': '2023-05-01T13:55:40Z', 'chann...</td>\n",
       "    </tr>\n",
       "  </tbody>\n",
       "</table>\n",
       "</div>"
      ],
      "text/plain": [
       "                   kind                         etag  \\\n",
       "0  youtube#searchResult  rWqR7TPlw64AaKJF3gTXE3l-vXw   \n",
       "\n",
       "                                                  id  \\\n",
       "0  {'kind': 'youtube#video', 'videoId': 'nLRL_Ncn...   \n",
       "\n",
       "                                             snippet  \n",
       "0  {'publishedAt': '2023-05-01T13:55:40Z', 'chann...  "
      ]
     },
     "execution_count": 33,
     "metadata": {},
     "output_type": "execute_result"
    }
   ],
   "source": [
    "import pandas as pd\n",
    "import json\n",
    "\n",
    "with open('response.json') as f:\n",
    "  data = json.load(f)\n",
    "df = pd.DataFrame(data['items'])\n",
    "df.head()"
   ]
  },
  {
   "cell_type": "code",
   "execution_count": 34,
   "metadata": {},
   "outputs": [
    {
     "name": "stdout",
     "output_type": "stream",
     "text": [
      "0    {'kind': 'youtube#video', 'videoId': 'nLRL_Ncn...\n",
      "Name: id, dtype: object\n"
     ]
    }
   ],
   "source": [
    "print(df['id'])"
   ]
  },
  {
   "cell_type": "code",
   "execution_count": 35,
   "metadata": {},
   "outputs": [
    {
     "data": {
      "text/html": [
       "<div>\n",
       "<style scoped>\n",
       "    .dataframe tbody tr th:only-of-type {\n",
       "        vertical-align: middle;\n",
       "    }\n",
       "\n",
       "    .dataframe tbody tr th {\n",
       "        vertical-align: top;\n",
       "    }\n",
       "\n",
       "    .dataframe thead th {\n",
       "        text-align: right;\n",
       "    }\n",
       "</style>\n",
       "<table border=\"1\" class=\"dataframe\">\n",
       "  <thead>\n",
       "    <tr style=\"text-align: right;\">\n",
       "      <th></th>\n",
       "      <th>kind</th>\n",
       "      <th>etag</th>\n",
       "      <th>id</th>\n",
       "      <th>snippet</th>\n",
       "      <th>video_Id</th>\n",
       "    </tr>\n",
       "  </thead>\n",
       "  <tbody>\n",
       "    <tr>\n",
       "      <th>0</th>\n",
       "      <td>youtube#searchResult</td>\n",
       "      <td>rWqR7TPlw64AaKJF3gTXE3l-vXw</td>\n",
       "      <td>{'kind': 'youtube#video', 'videoId': 'nLRL_Ncn...</td>\n",
       "      <td>{'publishedAt': '2023-05-01T13:55:40Z', 'chann...</td>\n",
       "      <td>nLRL_NcnK-4</td>\n",
       "    </tr>\n",
       "  </tbody>\n",
       "</table>\n",
       "</div>"
      ],
      "text/plain": [
       "                   kind                         etag  \\\n",
       "0  youtube#searchResult  rWqR7TPlw64AaKJF3gTXE3l-vXw   \n",
       "\n",
       "                                                  id  \\\n",
       "0  {'kind': 'youtube#video', 'videoId': 'nLRL_Ncn...   \n",
       "\n",
       "                                             snippet     video_Id  \n",
       "0  {'publishedAt': '2023-05-01T13:55:40Z', 'chann...  nLRL_NcnK-4  "
      ]
     },
     "execution_count": 35,
     "metadata": {},
     "output_type": "execute_result"
    }
   ],
   "source": [
    "df['video_Id'] = df['id'].apply(lambda x: x['videoId'])\n",
    "df.head()"
   ]
  },
  {
   "cell_type": "code",
   "execution_count": 36,
   "metadata": {},
   "outputs": [
    {
     "data": {
      "text/html": [
       "<div>\n",
       "<style scoped>\n",
       "    .dataframe tbody tr th:only-of-type {\n",
       "        vertical-align: middle;\n",
       "    }\n",
       "\n",
       "    .dataframe tbody tr th {\n",
       "        vertical-align: top;\n",
       "    }\n",
       "\n",
       "    .dataframe thead th {\n",
       "        text-align: right;\n",
       "    }\n",
       "</style>\n",
       "<table border=\"1\" class=\"dataframe\">\n",
       "  <thead>\n",
       "    <tr style=\"text-align: right;\">\n",
       "      <th></th>\n",
       "      <th>video_Id</th>\n",
       "      <th>channel_Id</th>\n",
       "      <th>channel_Title</th>\n",
       "      <th>description</th>\n",
       "    </tr>\n",
       "  </thead>\n",
       "  <tbody>\n",
       "    <tr>\n",
       "      <th>0</th>\n",
       "      <td>nLRL_NcnK-4</td>\n",
       "      <td>UC8butISFwT-Wl7EV0hUK0BQ</td>\n",
       "      <td>freeCodeCamp.org</td>\n",
       "      <td>Harvard CS50’s Introduction to Programming wit...</td>\n",
       "    </tr>\n",
       "  </tbody>\n",
       "</table>\n",
       "</div>"
      ],
      "text/plain": [
       "      video_Id                channel_Id     channel_Title  \\\n",
       "0  nLRL_NcnK-4  UC8butISFwT-Wl7EV0hUK0BQ  freeCodeCamp.org   \n",
       "\n",
       "                                         description  \n",
       "0  Harvard CS50’s Introduction to Programming wit...  "
      ]
     },
     "execution_count": 36,
     "metadata": {},
     "output_type": "execute_result"
    }
   ],
   "source": [
    "df['channel_Id'] = df['snippet'].apply(lambda x: x['channelId'])\n",
    "df['channel_Title'] = df['snippet'].apply(lambda x: x['channelTitle'])\n",
    "df['description'] = df['snippet'].apply(lambda x: x['title'] + x['description'])\n",
    "df['url'] = \"https://www.youtube.com/watch?v\" + df['video_Id']\n",
    "df.drop(['id', 'kind', 'etag', 'snippet'], axis=1, inplace=True)\n",
    "df.head()\n"
   ]
  }
 ],
 "metadata": {
  "kernelspec": {
   "display_name": "venv",
   "language": "python",
   "name": "python3"
  },
  "language_info": {
   "codemirror_mode": {
    "name": "ipython",
    "version": 3
   },
   "file_extension": ".py",
   "mimetype": "text/x-python",
   "name": "python",
   "nbconvert_exporter": "python",
   "pygments_lexer": "ipython3",
   "version": "3.11.5"
  }
 },
 "nbformat": 4,
 "nbformat_minor": 2
}
